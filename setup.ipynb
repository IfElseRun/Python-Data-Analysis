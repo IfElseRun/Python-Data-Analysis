{
 "cells": [
  {
   "cell_type": "code",
   "execution_count": 4,
   "id": "99b69314",
   "metadata": {},
   "outputs": [
    {
     "name": "stdout",
     "output_type": "stream",
     "text": [
      "Connection successful\n"
     ]
    }
   ],
   "source": [
    "import csv\n",
    "import MySQLdb \n",
    "import sys\n",
    "\n",
    "#Connecting to a MySQL database - example\n",
    "con = MySQLdb.connect(host='your_host', \n",
    "                      port=3306, \n",
    "                      user='your_username',\n",
    "                      database='nyc_restaurants',\n",
    "                      passwd='your_password')\n",
    "c = con.cursor()\n",
    "if (con):\n",
    "  print (\"Connection successful\")\n",
    "\n",
    "else:\n",
    "  print (\"Connection unsuccessful\")"
   ]
  }
 ],
 "metadata": {
  "kernelspec": {
   "display_name": "Python 3 (ipykernel)",
   "language": "python",
   "name": "python3"
  },
  "language_info": {
   "codemirror_mode": {
    "name": "ipython",
    "version": 3
   },
   "file_extension": ".py",
   "mimetype": "text/x-python",
   "name": "python",
   "nbconvert_exporter": "python",
   "pygments_lexer": "ipython3",
   "version": "3.9.7"
  }
 },
 "nbformat": 4,
 "nbformat_minor": 5
}
